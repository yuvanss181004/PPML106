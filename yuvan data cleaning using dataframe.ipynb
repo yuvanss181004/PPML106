{
 "cells": [
  {
   "cell_type": "code",
   "execution_count": 7,
   "id": "41dd633d",
   "metadata": {},
   "outputs": [
    {
     "name": "stdout",
     "output_type": "stream",
     "text": [
      "        one       two     three\n",
      "a  1.103393 -1.443281  0.426175\n",
      "b       NaN       NaN       NaN\n",
      "c -0.353229  0.783394  0.307997\n",
      "d  0.108542 -1.887848  0.023198\n",
      "e       NaN       NaN       NaN\n",
      "f  1.570458 -1.131939 -1.202473\n"
     ]
    }
   ],
   "source": [
    "import pandas as pd\n",
    "import numpy as np\n",
    "df=pd.DataFrame((np.random.randn(4,3)),index=['a','c','d','f'],columns=['one','two','three'])\n",
    "df=df.reindex(['a','b','c','d','e','f'])\n",
    "print(df)"
   ]
  },
  {
   "cell_type": "code",
   "execution_count": 8,
   "id": "89d8b027",
   "metadata": {},
   "outputs": [
    {
     "name": "stdout",
     "output_type": "stream",
     "text": [
      "        one       two     three\n",
      "a  1.103393 -1.443281  0.426175\n",
      "c -0.353229  0.783394  0.307997\n",
      "d  0.108542 -1.887848  0.023198\n",
      "f  1.570458 -1.131939 -1.202473\n",
      "\n"
     ]
    }
   ],
   "source": [
    "print(df.dropna())\n",
    "print()"
   ]
  },
  {
   "cell_type": "code",
   "execution_count": 10,
   "id": "4c8b245b",
   "metadata": {},
   "outputs": [
    {
     "name": "stdout",
     "output_type": "stream",
     "text": [
      "        one       two     three\n",
      "a  0.398074 -0.803629  1.062218\n",
      "b  0.000000  0.000000  0.000000\n",
      "c  0.321771 -0.197610 -1.495803\n",
      "d -0.842306  0.169101  0.831868\n",
      "e  0.000000  0.000000  0.000000\n",
      "f -0.014450  1.337251  0.369078\n"
     ]
    }
   ],
   "source": [
    "print(df.fillna(0))"
   ]
  },
  {
   "cell_type": "code",
   "execution_count": 11,
   "id": "9057fd88",
   "metadata": {},
   "outputs": [
    {
     "name": "stdout",
     "output_type": "stream",
     "text": [
      "   one  two\n",
      "0   10   60\n",
      "1   20   70\n",
      "2   30   80\n",
      "3   40    0\n",
      "4   50   10\n",
      "   one  two\n",
      "0    5   60\n",
      "1   20   70\n",
      "2   30    3\n",
      "3   40    0\n",
      "4   50    5\n",
      "\n"
     ]
    }
   ],
   "source": [
    "df=pd.DataFrame({'one':[10,20,30,40,50],'two':[60,70,80,0,10]})\n",
    "print(df)\n",
    "print(df.replace({10:5,80:3}))\n",
    "print()"
   ]
  },
  {
   "cell_type": "code",
   "execution_count": 12,
   "id": "5ce7b260",
   "metadata": {},
   "outputs": [
    {
     "name": "stdout",
     "output_type": "stream",
     "text": [
      "Original dataframe:\n",
      "         one       two     three\n",
      "a  0.073360  1.709263 -0.460124\n",
      "b       NaN       NaN       NaN\n",
      "c  0.405708 -1.595379 -0.326338\n",
      "d  1.218828 -0.832619  0.238335\n",
      "e       NaN       NaN       NaN\n",
      "f -0.396456  0.641974 -0.381122\n",
      "\n",
      " Non-with true fill:\n",
      "\n",
      "<bound method Series.isnull of a    0.073360\n",
      "b         NaN\n",
      "c    0.405708\n",
      "d    1.218828\n",
      "e         NaN\n",
      "f   -0.396456\n",
      "Name: one, dtype: float64>\n"
     ]
    }
   ],
   "source": [
    "df=pd.DataFrame((np.random.randn(4,3)),index=['a','c','d','f'],columns=['one','two','three'])\n",
    "df=df.reindex(['a','b','c','d','e','f'])\n",
    "print(\"Original dataframe:\\n\",df)\n",
    "print(\"\\n Non-with true fill:\\n\")\n",
    "print(df['one'].isnull)\n"
   ]
  },
  {
   "cell_type": "code",
   "execution_count": 13,
   "id": "b9e1a248",
   "metadata": {},
   "outputs": [
    {
     "name": "stdout",
     "output_type": "stream",
     "text": [
      "\n",
      " Non_filled with Background Values:\n",
      "\n",
      "        one       two     three\n",
      "a  0.073360  1.709263 -0.460124\n",
      "b  0.405708 -1.595379 -0.326338\n",
      "c  0.405708 -1.595379 -0.326338\n",
      "d  1.218828 -0.832619  0.238335\n",
      "e -0.396456  0.641974 -0.381122\n",
      "f -0.396456  0.641974 -0.381122\n"
     ]
    }
   ],
   "source": [
    "print(\"\\n Non_filled with Background Values:\\n\")\n",
    "print(df.fillna(method='bfill'))"
   ]
  },
  {
   "cell_type": "code",
   "execution_count": null,
   "id": "02eb9b3c",
   "metadata": {},
   "outputs": [],
   "source": []
  }
 ],
 "metadata": {
  "kernelspec": {
   "display_name": "Python 3 (ipykernel)",
   "language": "python",
   "name": "python3"
  },
  "language_info": {
   "codemirror_mode": {
    "name": "ipython",
    "version": 3
   },
   "file_extension": ".py",
   "mimetype": "text/x-python",
   "name": "python",
   "nbconvert_exporter": "python",
   "pygments_lexer": "ipython3",
   "version": "3.11.5"
  }
 },
 "nbformat": 4,
 "nbformat_minor": 5
}
