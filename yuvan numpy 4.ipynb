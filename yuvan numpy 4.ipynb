{
 "cells": [
  {
   "cell_type": "code",
   "execution_count": 1,
   "id": "464c2722",
   "metadata": {},
   "outputs": [
    {
     "name": "stdout",
     "output_type": "stream",
     "text": [
      "[20 40 50 70 10]\n",
      "[ 6  2  9  7 11]\n",
      "[26 42 59 77 21]\n",
      "[14 38 41 63 -1]\n",
      "[120  80 450 490 110]\n",
      "[ 3.33333333 20.          5.55555556 10.          0.90909091]\n"
     ]
    }
   ],
   "source": [
    "import numpy as np\n",
    "a=np.array([20,40,50,70,10])\n",
    "b=np.array([6,2,9,7,11])\n",
    "print(a)\n",
    "print(b)\n",
    "print(a+b)\n",
    "print(a-b)\n",
    "print(a*b)\n",
    "print(a/b)\n"
   ]
  },
  {
   "cell_type": "code",
   "execution_count": 2,
   "id": "ae9d6135",
   "metadata": {},
   "outputs": [
    {
     "name": "stdout",
     "output_type": "stream",
     "text": [
      "1250\n",
      "scalar value: 3\n",
      "Array: [20 40 50 70 10]\n",
      "Result: [ 60 120 150 210  30]\n"
     ]
    }
   ],
   "source": [
    "#dot product\n",
    "print(a.dot(b))\n",
    "sclr=3\n",
    "print(\"scalar value:\",sclr)\n",
    "print(\"Array:\",a)\n",
    "print(\"Result:\",a*sclr)"
   ]
  },
  {
   "cell_type": "code",
   "execution_count": 4,
   "id": "750ecf74",
   "metadata": {},
   "outputs": [
    {
     "name": "stdout",
     "output_type": "stream",
     "text": [
      "[[1 6]\n",
      " [0 4]]\n"
     ]
    }
   ],
   "source": [
    "#vector operation\n",
    "a=np.array([[10,20],[30,40]])\n",
    "b=np.array([[3,7],[5,9]])\n",
    "print(a%b)"
   ]
  },
  {
   "cell_type": "code",
   "execution_count": 8,
   "id": "7b365b55",
   "metadata": {},
   "outputs": [
    {
     "name": "stdout",
     "output_type": "stream",
     "text": [
      "Array1: [10, 7, 2]\n",
      "Array2: [6, 5, 3]\n",
      "Result: [4 2 5]\n"
     ]
    }
   ],
   "source": [
    "def my_fun(x,y):\n",
    "    if x>y: \n",
    "        return x-y\n",
    "    else:\n",
    "        return x+y\n",
    "arr1=[10,7,2]\n",
    "arr2=[6,5,3]\n",
    "vect_fun=np.vectorize(my_fun)\n",
    "print(\"Array1:\",arr1)\n",
    "print(\"Array2:\",arr2)\n",
    "print(\"Result:\",vect_fun(arr1,arr2))"
   ]
  },
  {
   "cell_type": "code",
   "execution_count": null,
   "id": "829fa0ec",
   "metadata": {},
   "outputs": [],
   "source": []
  }
 ],
 "metadata": {
  "kernelspec": {
   "display_name": "Python 3 (ipykernel)",
   "language": "python",
   "name": "python3"
  },
  "language_info": {
   "codemirror_mode": {
    "name": "ipython",
    "version": 3
   },
   "file_extension": ".py",
   "mimetype": "text/x-python",
   "name": "python",
   "nbconvert_exporter": "python",
   "pygments_lexer": "ipython3",
   "version": "3.11.5"
  }
 },
 "nbformat": 4,
 "nbformat_minor": 5
}
