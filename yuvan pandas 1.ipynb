{
 "cells": [
  {
   "cell_type": "code",
   "execution_count": 14,
   "id": "7ae34035",
   "metadata": {},
   "outputs": [
    {
     "name": "stdout",
     "output_type": "stream",
     "text": [
      "Empty DataFrame\n",
      "Columns: []\n",
      "Index: []\n"
     ]
    }
   ],
   "source": [
    "#pandas\n",
    "import pandas as pd\n",
    "df=pd.DataFrame()\n",
    "print(df)"
   ]
  },
  {
   "cell_type": "code",
   "execution_count": 15,
   "id": "6389636d",
   "metadata": {},
   "outputs": [
    {
     "name": "stdout",
     "output_type": "stream",
     "text": [
      "\n",
      "Series to DataFrame\n",
      "\n",
      "      Emp  ID\n",
      "0  Dharan  10\n",
      "1  Sudeep  20\n",
      "2    Siva  30\n",
      "3    Yash  40\n"
     ]
    }
   ],
   "source": [
    "import pandas as pd\n",
    "emp=pd.Series(['Dharan','Sudeep','Siva','Yash'])\n",
    "id=pd.Series([10,20,30,40])\n",
    "frame={'Emp':emp,'ID':id}\n",
    "result=pd.DataFrame(frame)\n",
    "print(\"\\nSeries to DataFrame\\n\")\n",
    "print(result)"
   ]
  },
  {
   "cell_type": "code",
   "execution_count": 16,
   "id": "412c8394",
   "metadata": {},
   "outputs": [
    {
     "name": "stdout",
     "output_type": "stream",
     "text": [
      "\n",
      " Extracting one column \n",
      "\n",
      "0    Dharan\n",
      "1    Sudeep\n",
      "2      Siva\n",
      "3      Yash\n",
      "Name: Emp, dtype: object\n"
     ]
    }
   ],
   "source": [
    "print(\"\\n Extracting one column \\n\")\n",
    "print(result['Emp'])"
   ]
  },
  {
   "cell_type": "code",
   "execution_count": 18,
   "id": "09edc065",
   "metadata": {},
   "outputs": [
    {
     "name": "stdout",
     "output_type": "stream",
     "text": [
      "\n",
      " Adding one column\n",
      "\n",
      "      Emp  ID  AGE\n",
      "0  Dharan  80   19\n",
      "1  Sudeep  90   90\n",
      "2    Siva  28   34\n",
      "3    Yash  56   67\n"
     ]
    }
   ],
   "source": [
    "import pandas as pd\n",
    "print(\"\\n Adding one column\\n\")\n",
    "result['ID']=pd.Series([80,90,28,56])\n",
    "result['AGE']=pd.Series([19,90,34,67])\n",
    "print(result)"
   ]
  },
  {
   "cell_type": "code",
   "execution_count": 20,
   "id": "39f46689",
   "metadata": {},
   "outputs": [
    {
     "name": "stdout",
     "output_type": "stream",
     "text": [
      "\n",
      " Deleting new column:\n",
      "\n",
      "      Emp  ID\n",
      "0  Dharan  80\n",
      "1  Sudeep  90\n",
      "2    Siva  28\n",
      "3    Yash  56\n"
     ]
    }
   ],
   "source": [
    "print(\"\\n Deleting new column:\\n\")\n",
    "del result['AGE']\n",
    "print(result)"
   ]
  },
  {
   "cell_type": "code",
   "execution_count": 21,
   "id": "b27343e2",
   "metadata": {},
   "outputs": [
    {
     "name": "stdout",
     "output_type": "stream",
     "text": [
      "\n",
      " Extracting the second row:\n",
      "\n",
      "Emp    Sudeep\n",
      "ID         90\n",
      "Name: 1, dtype: object\n"
     ]
    }
   ],
   "source": [
    "print(\"\\n Extracting the second row:\\n\")\n",
    "print(result.loc[1])"
   ]
  },
  {
   "cell_type": "code",
   "execution_count": 22,
   "id": "b301106a",
   "metadata": {},
   "outputs": [
    {
     "name": "stdout",
     "output_type": "stream",
     "text": [
      "slice:\n",
      "       Emp  ID\n",
      "1  Sudeep  90\n",
      "2    Siva  28\n",
      "3    Yash  56\n"
     ]
    }
   ],
   "source": [
    "print(\"slice:\\n\",result[1:4])"
   ]
  },
  {
   "cell_type": "code",
   "execution_count": 29,
   "id": "5d5e174b",
   "metadata": {},
   "outputs": [
    {
     "name": "stdout",
     "output_type": "stream",
     "text": [
      "\n",
      " adding new row values:\n",
      "       Emp     ID\n",
      "0  Dharan     80\n",
      "1  Sudeep     90\n",
      "2    Siva     28\n",
      "3    Yash     56\n",
      "0   vijay    100\n",
      "1  rashid  [112]\n"
     ]
    }
   ],
   "source": [
    "d2=pd.DataFrame([['vijay',100],['rashid',[112]]],columns=['Emp','ID'])\n",
    "print(\"\\n adding new row values:\\n\",pd.concat([result,d2]))"
   ]
  },
  {
   "cell_type": "code",
   "execution_count": 27,
   "id": "a5cf767e",
   "metadata": {},
   "outputs": [
    {
     "name": "stdout",
     "output_type": "stream",
     "text": [
      "\n",
      " Deleting Particular row:\n",
      "       Emp  ID\n",
      "0  Dharan  80\n",
      "1  Sudeep  90\n",
      "3    Yash  56\n"
     ]
    }
   ],
   "source": [
    "print(\"\\n Deleting Particular row:\\n\",result.drop(2))"
   ]
  },
  {
   "cell_type": "code",
   "execution_count": null,
   "id": "f45beb1b",
   "metadata": {},
   "outputs": [],
   "source": []
  }
 ],
 "metadata": {
  "kernelspec": {
   "display_name": "Python 3 (ipykernel)",
   "language": "python",
   "name": "python3"
  },
  "language_info": {
   "codemirror_mode": {
    "name": "ipython",
    "version": 3
   },
   "file_extension": ".py",
   "mimetype": "text/x-python",
   "name": "python",
   "nbconvert_exporter": "python",
   "pygments_lexer": "ipython3",
   "version": "3.11.5"
  }
 },
 "nbformat": 4,
 "nbformat_minor": 5
}
