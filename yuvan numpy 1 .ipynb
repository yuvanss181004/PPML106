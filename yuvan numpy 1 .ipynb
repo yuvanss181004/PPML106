{
 "cells": [
  {
   "cell_type": "code",
   "execution_count": 1,
   "id": "8f487ee1",
   "metadata": {},
   "outputs": [
    {
     "name": "stdout",
     "output_type": "stream",
     "text": [
      "one dimensional array: [10 20 30 40]\n"
     ]
    }
   ],
   "source": [
    "import numpy as np\n",
    "a = np. array([10,20,30,40])\n",
    "print(\"one dimensional array:\",a)\n"
   ]
  },
  {
   "cell_type": "code",
   "execution_count": 6,
   "id": "a6edd145",
   "metadata": {},
   "outputs": [
    {
     "name": "stdout",
     "output_type": "stream",
     "text": [
      "two dimensional array: [[10 20 30]\n",
      " [40 50 60]]\n"
     ]
    }
   ],
   "source": [
    "import numpy as np\n",
    "b = np.array ([[10,20,30],[40,50,60]])\n",
    "print(\"two dimensional array:\",b)"
   ]
  },
  {
   "cell_type": "code",
   "execution_count": 8,
   "id": "dfe371e1",
   "metadata": {},
   "outputs": [
    {
     "name": "stdout",
     "output_type": "stream",
     "text": [
      "three dimensionl array: [[ 1  2  3  4]\n",
      " [ 5  6  7  8]\n",
      " [ 9 10 11 12]]\n"
     ]
    }
   ],
   "source": [
    "import numpy as np\n",
    "c = np.array([[1,2,3,4],[5,6,7,8],[9,10,11,12]])\n",
    "print(\"three dimensionl array:\",c)"
   ]
  },
  {
   "cell_type": "code",
   "execution_count": 9,
   "id": "86e988c3",
   "metadata": {},
   "outputs": [
    {
     "name": "stdout",
     "output_type": "stream",
     "text": [
      "\n",
      " array with all zeros\n",
      ": [[0. 0. 0. 0. 0.]\n",
      " [0. 0. 0. 0. 0.]\n",
      " [0. 0. 0. 0. 0.]]\n"
     ]
    }
   ],
   "source": [
    "import numpy as np\n",
    "d = np.zeros((3,5))\n",
    "print(\"\\n array with all zeros\\n:\",d)"
   ]
  },
  {
   "cell_type": "code",
   "execution_count": 13,
   "id": "5d4437ca",
   "metadata": {},
   "outputs": [
    {
     "name": "stdout",
     "output_type": "stream",
     "text": [
      "\n",
      " random value:\n",
      " [[0.1841519  0.69522515 0.72426647 0.72587371 0.36477914]\n",
      " [0.17615833 0.66376304 0.85690191 0.95001803 0.59902142]\n",
      " [0.56961747 0.65678627 0.05306203 0.64089361 0.91266357]]\n"
     ]
    }
   ],
   "source": [
    "import numpy as np\n",
    "d = np.random.random((3,5))\n",
    "print(\"\\n random value:\\n\",d)"
   ]
  },
  {
   "cell_type": "code",
   "execution_count": 15,
   "id": "8c842f85",
   "metadata": {},
   "outputs": [
    {
     "name": "stdout",
     "output_type": "stream",
     "text": [
      "\n",
      " sequence value:\n",
      " [0 1 2 3 4 5 6 7 8 9]\n"
     ]
    }
   ],
   "source": [
    "import numpy as np\n",
    "e = np.arange(0,10,1)\n",
    "print(\"\\n sequence value:\\n\",e)"
   ]
  },
  {
   "cell_type": "code",
   "execution_count": 17,
   "id": "bc6bf290",
   "metadata": {},
   "outputs": [
    {
     "name": "stdout",
     "output_type": "stream",
     "text": [
      "\n",
      " orginal array:\n",
      " [[ 1  2  3  4]\n",
      " [ 5  6  7  8]\n",
      " [ 9 10 11 12]]\n",
      "\n",
      " reshaped array:\n",
      " [[ 1  2  3]\n",
      " [ 4  5  6]\n",
      " [ 7  8  9]\n",
      " [10 11 12]]\n"
     ]
    }
   ],
   "source": [
    "import numpy as np\n",
    "orgarr = np.array([[1,2,3,4],[5,6,7,8],[9,10,11,12]])\n",
    "newarr = orgarr.reshape(4,3)\n",
    "print(\"\\n orginal array:\\n\",orgarr)\n",
    "print(\"\\n reshaped array:\\n\",newarr)"
   ]
  },
  {
   "cell_type": "code",
   "execution_count": 23,
   "id": "4e544f72",
   "metadata": {},
   "outputs": [
    {
     "name": "stdout",
     "output_type": "stream",
     "text": [
      "\n",
      " original array:\n",
      " [[ 1  2  3  4]\n",
      " [ 5  6  7  8]\n",
      " [ 9 10 11 12]]\n",
      "\n",
      " flatten array:\n",
      " [ 1  2  3  4  5  6  7  8  9 10 11 12]\n"
     ]
    }
   ],
   "source": [
    "import numpy as np\n",
    "orgarr = np.array([[1,2,3,4],[5,6,7,8],[9,10,11,12]])\n",
    "flatarr = orgarr.flatten()\n",
    "print(\"\\n original array:\\n\",orgarr)\n",
    "print(\"\\n flatten array:\\n\",flatarr)\n"
   ]
  },
  {
   "cell_type": "code",
   "execution_count": 1,
   "id": "1b7079de",
   "metadata": {},
   "outputs": [
    {
     "name": "stdout",
     "output_type": "stream",
     "text": [
      "dimension array 2\n",
      "my array data types: int64\n",
      "length of array: 4\n"
     ]
    }
   ],
   "source": [
    "import numpy as np\n",
    "h=np.array([[1,2,3,4],[5,6,7,8],[9,10,11,12],[13,14,15,16]])\n",
    "size=len(h)\n",
    "print(\"dimension array\",h.ndim)\n",
    "print(\"my array data types:\",h.dtype)\n",
    "print(\"length of array:\",size)"
   ]
  },
  {
   "cell_type": "code",
   "execution_count": 2,
   "id": "bc0a3fda",
   "metadata": {},
   "outputs": [
    {
     "name": "stdout",
     "output_type": "stream",
     "text": [
      "[1. 2. 3.]\n",
      "float64\n"
     ]
    }
   ],
   "source": [
    "import numpy as np\n",
    "a=[1,2,3]\n",
    "a=np.array(a)\n",
    "newtype=a.astype('float64')\n",
    "print(newtype)\n",
    "print(newtype.dtype)"
   ]
  },
  {
   "cell_type": "code",
   "execution_count": null,
   "id": "9043c39a",
   "metadata": {},
   "outputs": [],
   "source": []
  }
 ],
 "metadata": {
  "kernelspec": {
   "display_name": "Python 3 (ipykernel)",
   "language": "python",
   "name": "python3"
  },
  "language_info": {
   "codemirror_mode": {
    "name": "ipython",
    "version": 3
   },
   "file_extension": ".py",
   "mimetype": "text/x-python",
   "name": "python",
   "nbconvert_exporter": "python",
   "pygments_lexer": "ipython3",
   "version": "3.11.5"
  }
 },
 "nbformat": 4,
 "nbformat_minor": 5
}
