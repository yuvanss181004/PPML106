{
 "cells": [
  {
   "cell_type": "code",
   "execution_count": 2,
   "id": "3251c432",
   "metadata": {},
   "outputs": [
    {
     "name": "stdout",
     "output_type": "stream",
     "text": [
      "\n",
      " Original DataFrame:\n",
      "    S  R\n",
      "0  3  9\n",
      "1  3  9\n",
      "2  3  9\n",
      "3  3  9\n",
      "\n",
      " Square root:\n",
      "           S    R\n",
      "0  1.732051  3.0\n",
      "1  1.732051  3.0\n",
      "2  1.732051  3.0\n",
      "3  1.732051  3.0\n",
      "\n",
      " Sum of each column:\n",
      " S    12\n",
      "R    36\n",
      "dtype: int64\n",
      "\n",
      " Sum of each row:\n",
      " 0    12\n",
      "1    12\n",
      "2    12\n",
      "3    12\n",
      "dtype: int64\n"
     ]
    }
   ],
   "source": [
    "import pandas as pd\n",
    "import numpy as np\n",
    "info=pd.DataFrame([[3,9]]*4,columns=['S','R'])\n",
    "print(\"\\n Original DataFrame:\\n\",info)\n",
    "print(\"\\n Square root:\\n\",info.apply(np.sqrt))\n",
    "print(\"\\n Sum of each column:\\n\",info.apply(np.sum,axis=0))\n",
    "print(\"\\n Sum of each row:\\n\",info.apply(np.sum,axis=1))"
   ]
  },
  {
   "cell_type": "code",
   "execution_count": 1,
   "id": "fac4ebe4",
   "metadata": {},
   "outputs": [
    {
     "name": "stdout",
     "output_type": "stream",
     "text": [
      "   X  Y  Z\n",
      "0  2  4  6\n",
      "1  1  3  5\n",
      "2  5  8  7\n",
      "     X  Y  Z\n",
      "min  1  3  5\n",
      "max  5  8  7\n"
     ]
    }
   ],
   "source": [
    "import pandas as pd\n",
    "import numpy as np\n",
    "info=pd.DataFrame([[2,4,6],[1,3,5],[5,8,7]],columns=['X','Y','Z'])\n",
    "print(info)\n",
    "print(info.agg(['min','max']))"
   ]
  },
  {
   "cell_type": "code",
   "execution_count": 5,
   "id": "0081546e",
   "metadata": {},
   "outputs": [
    {
     "name": "stdout",
     "output_type": "stream",
     "text": [
      "  EmpName  ID\n",
      "0   Yasir  10\n",
      "1    Miru  20\n",
      "\n",
      " Adding new column:\n",
      "   EmpName  ID  Age\n",
      "0   Yasir  10   20\n",
      "1    Miru  20   18\n",
      "Adding new column:\n",
      "   EmpName  ID  Age     Sex\n",
      "0   Yasir  10   20    Male\n",
      "1    Miru  20   18  Female\n"
     ]
    }
   ],
   "source": [
    "import pandas as pd\n",
    "import numpy as np\n",
    "d2=pd.DataFrame([['Yasir',10],['Miru',20]],columns=['EmpName','ID'])\n",
    "print(d2)\n",
    "d2['Age']=[20,18]\n",
    "print(\"\\n Adding new column:\\n\",d2)\n",
    "d2['Sex']=['Male','Female']\n",
    "print(\"Adding new column:\\n\",d2)"
   ]
  },
  {
   "cell_type": "code",
   "execution_count": 6,
   "id": "f7c99c11",
   "metadata": {},
   "outputs": [
    {
     "name": "stdout",
     "output_type": "stream",
     "text": [
      "  EmpName  ID\n",
      "0   Yasir  10\n",
      "1    Miru  20\n",
      "Adding a new column:\n",
      "   EmpName  ID  Age\n",
      "0   Yasir  10   20\n",
      "1    Miru  20   18\n"
     ]
    }
   ],
   "source": [
    "#to add a new column\n",
    "import pandas as pd\n",
    "import numpy as np\n",
    "d2=pd.DataFrame([['Yasir',10],['Miru',20]],columns=['EmpName','ID'])\n",
    "print(d2)\n",
    "a=d2.assign(Age=[20,18])\n",
    "print(\"Adding a new column:\\n\",a)"
   ]
  },
  {
   "cell_type": "code",
   "execution_count": 10,
   "id": "8e7b2d7f",
   "metadata": {},
   "outputs": [
    {
     "name": "stdout",
     "output_type": "stream",
     "text": [
      "       col1      col2\n",
      "3 -0.103291  0.466350\n",
      "2 -1.398503 -0.732093\n",
      "0 -0.150257  1.823246\n",
      "4  2.304668  1.106610\n",
      "1 -0.216648 -1.216391\n",
      "       col1      col2\n",
      "0 -0.150257  1.823246\n",
      "1 -0.216648 -1.216391\n",
      "2 -1.398503 -0.732093\n",
      "3 -0.103291  0.466350\n",
      "4  2.304668  1.106610\n",
      "       col1      col2\n",
      "1 -0.216648 -1.216391\n",
      "2 -1.398503 -0.732093\n",
      "3 -0.103291  0.466350\n",
      "4  2.304668  1.106610\n",
      "0 -0.150257  1.823246\n"
     ]
    }
   ],
   "source": [
    "import pandas as pd\n",
    "import numpy as np\n",
    "info=pd.DataFrame(np.random.randn(5,2),index=[3,2,0,4,1],columns=['col1','col2'])\n",
    "print(info)\n",
    "info2=info.sort_index()\n",
    "print(info2)\n",
    "info3=info.sort_values(by='col2')\n",
    "print(info3)"
   ]
  },
  {
   "cell_type": "code",
   "execution_count": 1,
   "id": "741f2079",
   "metadata": {},
   "outputs": [
    {
     "name": "stdout",
     "output_type": "stream",
     "text": [
      "   id   Name   sub\n",
      "0   1  Apple  sub1\n",
      "1   2   Ball  sub2\n",
      "2   3    Cat  sub4\n",
      "3   4    Dog  sub3\n",
      "   id     Name   sub\n",
      "0   1   Winter  sub2\n",
      "1   2   Summer  sub4\n",
      "2   3  Monsoon  sub3\n",
      "3   4   Spring  sub5\n",
      "   id Name_x sub_x   Name_y sub_y\n",
      "0   1  Apple  sub1   Winter  sub2\n",
      "1   2   Ball  sub2   Summer  sub4\n",
      "2   3    Cat  sub4  Monsoon  sub3\n",
      "3   4    Dog  sub3   Spring  sub5\n"
     ]
    }
   ],
   "source": [
    "import pandas as pd\n",
    "import numpy as np\n",
    "left=pd.DataFrame({'id':[1,2,3,4],'Name':['Apple','Ball','Cat','Dog'],'sub':['sub1','sub2','sub4','sub3']})\n",
    "right=pd.DataFrame({'id':[1,2,3,4],'Name':['Winter','Summer','Monsoon','Spring'],'sub':['sub2','sub4','sub3','sub5']})\n",
    "print(left)\n",
    "print(right)\n",
    "print(pd.merge(left,right,on='id'))"
   ]
  },
  {
   "cell_type": "code",
   "execution_count": null,
   "id": "f41f90dc",
   "metadata": {},
   "outputs": [],
   "source": []
  }
 ],
 "metadata": {
  "kernelspec": {
   "display_name": "Python 3 (ipykernel)",
   "language": "python",
   "name": "python3"
  },
  "language_info": {
   "codemirror_mode": {
    "name": "ipython",
    "version": 3
   },
   "file_extension": ".py",
   "mimetype": "text/x-python",
   "name": "python",
   "nbconvert_exporter": "python",
   "pygments_lexer": "ipython3",
   "version": "3.11.5"
  }
 },
 "nbformat": 4,
 "nbformat_minor": 5
}
